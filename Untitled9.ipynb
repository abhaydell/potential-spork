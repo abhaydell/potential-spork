{
  "nbformat": 4,
  "nbformat_minor": 0,
  "metadata": {
    "colab": {
      "private_outputs": true,
      "provenance": [],
      "authorship_tag": "ABX9TyMbnQ2NAGbrD7fwkeiLcmfX",
      "include_colab_link": true
    },
    "kernelspec": {
      "name": "python3",
      "display_name": "Python 3"
    },
    "language_info": {
      "name": "python"
    }
  },
  "cells": [
    {
      "cell_type": "markdown",
      "metadata": {
        "id": "view-in-github",
        "colab_type": "text"
      },
      "source": [
        "<a href=\"https://colab.research.google.com/github/abhaydell/potential-spork/blob/main/Untitled9.ipynb\" target=\"_parent\"><img src=\"https://colab.research.google.com/assets/colab-badge.svg\" alt=\"Open In Colab\"/></a>"
      ]
    },
    {
      "cell_type": "markdown",
      "source": [
        "PYTHON ASSIGNMENT\n",
        "15.PYTHON OPEATORS\n"
      ],
      "metadata": {
        "id": "B2LGibSNeMBB"
      }
    },
    {
      "cell_type": "code",
      "source": [
        "#SUM\n",
        "a=8\n",
        "b=4\n",
        "result=a+b\n",
        "print(result)"
      ],
      "metadata": {
        "id": "4UlpxUF8eVec"
      },
      "execution_count": null,
      "outputs": []
    },
    {
      "cell_type": "code",
      "source": [
        "#difference\n",
        "result=a-b\n",
        "print(result)"
      ],
      "metadata": {
        "id": "wnjFvtRSe3c_"
      },
      "execution_count": null,
      "outputs": []
    },
    {
      "cell_type": "code",
      "source": [
        "#product\n",
        "result=a*b\n",
        "print(result)"
      ],
      "metadata": {
        "id": "2WHeNSfOfKDR"
      },
      "execution_count": null,
      "outputs": []
    },
    {
      "cell_type": "code",
      "source": [
        "#quotient\n",
        "result=a/b\n",
        "print(result)"
      ],
      "metadata": {
        "id": "9sI06EHXfbJe"
      },
      "execution_count": null,
      "outputs": []
    },
    {
      "cell_type": "code",
      "source": [
        "x=5\n",
        "y=2\n",
        "#modulus\n",
        "result=x%y\n",
        "print(result)"
      ],
      "metadata": {
        "id": "le9VR0PUgA1y"
      },
      "execution_count": null,
      "outputs": []
    },
    {
      "cell_type": "code",
      "source": [
        "#exponential\n",
        "result=x**y\n",
        "print(result)"
      ],
      "metadata": {
        "id": "FRgfeOzrhOIs"
      },
      "execution_count": null,
      "outputs": []
    },
    {
      "cell_type": "code",
      "source": [
        "a=4\n",
        "b=5\n",
        "#not equal to\n",
        "result=a!=b\n",
        "print(result)"
      ],
      "metadata": {
        "id": "gMZ1Ep87jK8F"
      },
      "execution_count": null,
      "outputs": []
    },
    {
      "cell_type": "code",
      "source": [
        "#logical AND\n",
        "x=True\n",
        "y=False\n",
        "result= x and y\n",
        "print(result)\n"
      ],
      "metadata": {
        "id": "09Dtcn4Zmbci"
      },
      "execution_count": null,
      "outputs": []
    },
    {
      "cell_type": "code",
      "source": [
        "#logical or\n",
        "x=True\n",
        "y=True\n",
        "result=x or y\n",
        "print (result)"
      ],
      "metadata": {
        "id": "rzOZVuNNneME"
      },
      "execution_count": null,
      "outputs": []
    },
    {
      "cell_type": "code",
      "source": [
        "#logical NOT\n",
        "x=True\n",
        "result= not x\n",
        "print(result)"
      ],
      "metadata": {
        "id": "eo3QmsF1oJ7z"
      },
      "execution_count": null,
      "outputs": []
    },
    {
      "cell_type": "code",
      "source": [
        "\n",
        "\n",
        "#'is ' operator\n",
        "x=\"pwskills\"\n",
        "result=x is y\n",
        "print(result)\n"
      ],
      "metadata": {
        "id": "x7saE2W2om4Z"
      },
      "execution_count": null,
      "outputs": []
    },
    {
      "cell_type": "code",
      "source": [
        "#'is not'operator\n",
        "x=\"pwskills\"\n",
        "y=x\n",
        "result=x is not y\n",
        "print(result)"
      ],
      "metadata": {
        "id": "fZAvG8f8sglg"
      },
      "execution_count": null,
      "outputs": []
    },
    {
      "cell_type": "code",
      "source": [
        "#bitwise operator:left shift\n",
        "result=8<<2#shift 8 two bits to the left\n",
        "print(result)\n",
        "\n"
      ],
      "metadata": {
        "id": "0RdZYPn3tx4B"
      },
      "execution_count": null,
      "outputs": []
    },
    {
      "cell_type": "code",
      "source": [
        "#bitwise operator:right shift\n",
        "value=32\n",
        "shifted=value>>2#shift 32 two bits to the right\n",
        "print(shifted)"
      ],
      "metadata": {
        "id": "VBXpJJ2Vwi5h"
      },
      "execution_count": null,
      "outputs": []
    },
    {
      "cell_type": "code",
      "source": [
        "#assignment (=)\n",
        "a=20"
      ],
      "metadata": {
        "id": "Sv5_YnrsvC0Q"
      },
      "execution_count": null,
      "outputs": []
    },
    {
      "cell_type": "code",
      "source": [
        "#addition assignment(+=)\n",
        "a+=5\n",
        "print(a)\n"
      ],
      "metadata": {
        "id": "dAgT7REBxRQp"
      },
      "execution_count": null,
      "outputs": []
    },
    {
      "cell_type": "code",
      "source": [
        "#multipal assignment(*=)\n",
        "a*=4\n",
        "print(a)"
      ],
      "metadata": {
        "id": "9vbfDkaIxO8e"
      },
      "execution_count": null,
      "outputs": []
    },
    {
      "cell_type": "code",
      "source": [
        "#'in' operator\n",
        "text=\"data science courseis available in PWskills\"\n",
        "result=\"data science\" in text\n",
        "print(result)"
      ],
      "metadata": {
        "id": "CI4RIohbzYsZ"
      },
      "execution_count": null,
      "outputs": []
    },
    {
      "cell_type": "code",
      "source": [
        "#'not in'operator\n",
        "text=\"data science course is available in PWskills\"\n",
        "result=\"data science\" not in text\n",
        "print(result)"
      ],
      "metadata": {
        "id": "ecxC5pmm1Hi1"
      },
      "execution_count": null,
      "outputs": []
    },
    {
      "cell_type": "markdown",
      "source": [
        "16. PYTHON TYPE CONVERSION\n",
        "\n"
      ],
      "metadata": {
        "id": "F2ALEq1TBP6e"
      }
    },
    {
      "cell_type": "code",
      "source": [
        "#convert an integer to a floating point number\n",
        "int_num=7/3\n",
        "float_num = float(int_num)\n",
        "print(float_num)"
      ],
      "metadata": {
        "id": "Xhm4A6zNBoY3"
      },
      "execution_count": null,
      "outputs": []
    },
    {
      "cell_type": "code",
      "source": [
        "# convert a float to an integer\n",
        "float_num=10.5\n",
        "int_num=int(float_num)\n",
        "print (int_num)"
      ],
      "metadata": {
        "id": "OQzOt80nCvOQ"
      },
      "execution_count": null,
      "outputs": []
    },
    {
      "cell_type": "code",
      "source": [
        "#convert an integer to a string\n",
        "int_num=32\n",
        "str_num=str(int_num)\n",
        "print(str_num)\n"
      ],
      "metadata": {
        "id": "G2w1NRw7FscB"
      },
      "execution_count": null,
      "outputs": []
    },
    {
      "cell_type": "code",
      "source": [
        "#convert a list to a tuple\n",
        "my_list=[1,2,3,4,5]\n",
        "my_tuple=tuple(my_list)\n",
        "print(my_tuple)"
      ],
      "metadata": {
        "id": "euJRP1brTeXT"
      },
      "execution_count": null,
      "outputs": []
    },
    {
      "cell_type": "code",
      "source": [
        "#convert a tuple to a list\n",
        "my_tuple=(1,2,3,4,5)\n",
        "my_list=list(my_tuple)\n",
        "print(my_list)"
      ],
      "metadata": {
        "id": "E0OJhtH5WoU7"
      },
      "execution_count": null,
      "outputs": []
    },
    {
      "cell_type": "code",
      "source": [
        "#convert a decimal num to binary\n",
        "decimal_num=42\n",
        "binary_num=bin(decimal_num)\n",
        "print(binary_num)"
      ],
      "metadata": {
        "id": "xHOe_4n0W8jS"
      },
      "execution_count": null,
      "outputs": []
    },
    {
      "cell_type": "code",
      "source": [
        "#convert a non_zero number to boolean\n",
        "x=5\n",
        "result=bool(x)\n",
        "print(result)"
      ],
      "metadata": {
        "id": "nSyvGWXbXdRc"
      },
      "execution_count": null,
      "outputs": []
    },
    {
      "cell_type": "markdown",
      "source": [
        "17.PYTHON CONDITIONS(IF,ELSE,IF_ELIF_ELSE)\n",
        "\n",
        "\n"
      ],
      "metadata": {
        "id": "hUEJxI5xYCEh"
      }
    },
    {
      "cell_type": "code",
      "source": [
        "a=5\n",
        "if a>0:\n",
        "  print(\"a is positive\")"
      ],
      "metadata": {
        "id": "i6caQ0VdZDKt"
      },
      "execution_count": null,
      "outputs": []
    },
    {
      "cell_type": "code",
      "source": [
        "marks=90\n",
        "if marks>=90:\n",
        "  print(\"you got an 'A'grade!\")"
      ],
      "metadata": {
        "id": "SmvdHbCcYpvj"
      },
      "execution_count": null,
      "outputs": []
    },
    {
      "cell_type": "code",
      "source": [
        "#season is based on months number\n",
        "month=12\n",
        "if month==1:\n",
        "  season=\"winter\"\n",
        "elif month==2:\n",
        "  season=\"winter\"\n",
        "elif month==3:\n",
        "  season=\"spring\"\n",
        "elif month==4:\n",
        "  season=\"spring\"\n",
        "elif month==5:\n",
        "  season=\"spring\"\n",
        "elif  month==6:\n",
        "  season=\"summer\"\n",
        "elif month==7:\n",
        "  season=\"summer\"\n",
        "elif month==8:\n",
        "  season=\"summer\"\n",
        "elif month==9:\n",
        "  season=\"autumn\"\n",
        "elif month==10:\n",
        "  season=\"autumn\"\n",
        "elif month==11:\n",
        "  season=\"autumn\"\n",
        "elif month==12:\n",
        "  season=\"winter\"\n",
        "\n"
      ],
      "metadata": {
        "id": "16O9ACdQbI8Y"
      },
      "execution_count": null,
      "outputs": []
    },
    {
      "cell_type": "code",
      "source": [
        "# determine the type of triangle based on sides\n",
        "if(conditionals): a=b=3;c=4\n",
        "  print(\"the triangle is scalene\")\n",
        "elif            : a==b==c==3\n",
        "  print(\"the triangle is equilateral\")\n",
        "else            : a=4,b=3,c=5\n",
        "  print(\"the triangle is isosceles\")\n"
      ],
      "metadata": {
        "id": "fBSuTq_VpGsv"
      },
      "execution_count": null,
      "outputs": []
    },
    {
      "cell_type": "code",
      "source": [
        "# a leap year is 2024\n",
        "year=2024\n",
        "if year%4==0:\n",
        "  if year%100==0:\n",
        "    if year%400==0:\n",
        "      print(\"it is a leap year\")"
      ],
      "metadata": {
        "id": "1rsD_eKPnwjx"
      },
      "execution_count": null,
      "outputs": []
    },
    {
      "cell_type": "code",
      "source": [
        "# a num is within a specified range\n",
        "num=5\n",
        "if num>=0 and num<=10:\n",
        "  print(\"the number is within the range\")\n"
      ],
      "metadata": {
        "id": "js8ONbXKmEkW"
      },
      "execution_count": null,
      "outputs": []
    },
    {
      "cell_type": "markdown",
      "source": [
        "18.PYTHON LOOPS(FOR,WHILE)\n",
        "\n"
      ],
      "metadata": {
        "id": "XmvmgucqJTqc"
      }
    },
    {
      "cell_type": "code",
      "source": [
        "#number from 1 to 5 using a while loop to be print\n",
        "num=1,2,3,4,5\n",
        "while num<=5:\n",
        "  print(num)"
      ],
      "metadata": {
        "id": "RzatX_CmJovH"
      },
      "execution_count": null,
      "outputs": []
    },
    {
      "cell_type": "code",
      "source": [
        "# the sum of numbers from 1 t0 10 using while loop\n",
        "sum=0\n",
        "num=1\n",
        "while num<=10:\n",
        "  sum+=num\n",
        "  num+=1\n",
        "print(\"the sum is\",sum)\n"
      ],
      "metadata": {
        "id": "qpEcICoXMSla"
      },
      "execution_count": null,
      "outputs": []
    },
    {
      "cell_type": "code",
      "source": [
        "# the factorial of a number using  a for loop\n",
        "num=5\n",
        "factorial=1\n",
        "for i in range(1,num+1):\n",
        "  factorial*=i\n",
        "print(\"the factorial is\",factorial)"
      ],
      "metadata": {
        "id": "YCZUdSqZOvwb"
      },
      "execution_count": null,
      "outputs": []
    },
    {
      "cell_type": "code",
      "source": [
        "# the number of vowels in a string using a for loop\n",
        "string=\"pwskills\"\n",
        "vowels=\"aeiou\"\n",
        "count=0\n",
        "for char in string:\n",
        "  if char in vowels:\n",
        "    count+=1\n",
        "print(\"the number of vowels is\",count)"
      ],
      "metadata": {
        "id": "vTDMj0H7PJWh"
      },
      "execution_count": null,
      "outputs": []
    },
    {
      "cell_type": "code",
      "source": [
        "#a pattern using nested loops to be print\n",
        "for i in range(1,6):\n",
        "  for j in range(1,i+1):\n",
        "    print(\"*\",end=\"\")\n",
        "  print()"
      ],
      "metadata": {
        "id": "vKrWQNxDQIPp"
      },
      "execution_count": null,
      "outputs": []
    },
    {
      "cell_type": "code",
      "source": [
        "# a multiplication table using nested loops towards generate\n",
        "for i in range(1,6):\n",
        "  for j in range(1,11):\n",
        "    print(i*j,end=\"\\t\")\n",
        "  print()"
      ],
      "metadata": {
        "id": "e7HpvWYCRGh6"
      },
      "execution_count": null,
      "outputs": []
    }
  ]
}